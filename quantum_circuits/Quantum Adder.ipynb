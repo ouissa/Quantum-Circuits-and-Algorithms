{
 "cells": [
  {
   "cell_type": "code",
   "execution_count": 16,
   "id": "seven-testament",
   "metadata": {},
   "outputs": [
    {
     "data": {
      "text/html": [
       "<pre style=\"word-wrap: normal;white-space: pre;background: #fff0;line-height: 1.1;font-family: &quot;Courier New&quot;,Courier,monospace\">     ┌───┐ ░                 ░       \n",
       "q_0: ┤ X ├─░───■─────────■───░───────\n",
       "     ├───┤ ░   │         │   ░       \n",
       "q_1: ┤ X ├─░───┼────■────■───░───────\n",
       "     └───┘ ░ ┌─┴─┐┌─┴─┐  │   ░ ┌─┐   \n",
       "q_2: ──────░─┤ X ├┤ X ├──┼───░─┤M├───\n",
       "           ░ └───┘└───┘┌─┴─┐ ░ └╥┘┌─┐\n",
       "q_3: ──────░───────────┤ X ├─░──╫─┤M├\n",
       "           ░           └───┘ ░  ║ └╥┘\n",
       "c: 2/═══════════════════════════╩══╩═\n",
       "                                0  1 </pre>"
      ],
      "text/plain": [
       "     ┌───┐ ░                 ░       \n",
       "q_0: ┤ X ├─░───■─────────■───░───────\n",
       "     ├───┤ ░   │         │   ░       \n",
       "q_1: ┤ X ├─░───┼────■────■───░───────\n",
       "     └───┘ ░ ┌─┴─┐┌─┴─┐  │   ░ ┌─┐   \n",
       "q_2: ──────░─┤ X ├┤ X ├──┼───░─┤M├───\n",
       "           ░ └───┘└───┘┌─┴─┐ ░ └╥┘┌─┐\n",
       "q_3: ──────░───────────┤ X ├─░──╫─┤M├\n",
       "           ░           └───┘ ░  ║ └╥┘\n",
       "c: 2/═══════════════════════════╩══╩═\n",
       "                                0  1 "
      ]
     },
     "execution_count": 16,
     "metadata": {},
     "output_type": "execute_result"
    }
   ],
   "source": [
    "# This code is inspired from the Qiskit Textbook\n",
    "# We will try to implement a quantum adder\n",
    "# we first need to strat with a half added, just like we do in adding binary numbers\n",
    "\n",
    "from qiskit import QuantumCircuit, assemble, Aer\n",
    "from qiskit.visualization import plot_histogram\n",
    "\n",
    "# we will first start with inplementing a half adder\n",
    "# For a half adder, we take 2 bits as an input, and we have 2 bits as an output\n",
    "qc_ha = QuantumCircuit(4,2)\n",
    "# we will first encode inputs in qubits 0 and 1\n",
    "qc_ha.x(0) # this is setting the first input to 1\n",
    "qc_ha.x(1) # this is setting the secoind input to 1\n",
    "qc_ha.barrier() # the barrier is only used to give us visibility and clarity\n",
    "\n",
    "# we know that if both inputs are the same, the leftmost bit of the output would be 0\n",
    "# we will use this fact to compute the leftmost bit that is q2\n",
    "# In a classical computer, we use the XOR gate for this purpose\n",
    "# in a quantum computer, we will use the C-NOT gate (controlled NOT gate)\n",
    "# the CNOT gate takes 2 inputs, the control qubit, and the target qubit\n",
    "# it overwritres the result of the operation (that is done on the control and target qubits) in the target qubit\n",
    "# the CNOT gate writes 0 if both qubits are the same, and 1 otherwise\n",
    "# since we do not want to overwrite any if the input qubits, we will apply the CNOT gate twice between both qubits and a third qubit set to 0\n",
    "\n",
    "\n",
    "qc_ha.cx(0,2)\n",
    "qc_ha.cx(1,2)\n",
    "\n",
    "# Now we need to figure out the rightmost bit of the output, that is q3\n",
    "# we can notice that the rightmost bit is 1 in the only case when both qubits have the value 1\n",
    "# to detect that, we usually use an AND operator in classical computers\n",
    "# in a quantum computer, we will use the Toffoli gate, it takes two control qubits and one target qubit as input\n",
    "# then writes a 1 in the target qubit if both control qubits are 1\n",
    "\n",
    "# use ccx to write the AND of the inputs on qubit 3\n",
    "qc_ha.ccx(0,1,3)\n",
    "qc_ha.barrier()\n",
    "\n",
    "# Now we q2 and q3 representing the output of the half adder, we are left with measuring thenm\n",
    "# extract outputs\n",
    "qc_ha.measure(2,0) # extract XOR value\n",
    "qc_ha.measure(3,1) # extract AND value\n",
    "\n",
    "qc_ha.draw()"
   ]
  },
  {
   "cell_type": "code",
   "execution_count": 17,
   "id": "collective-savage",
   "metadata": {},
   "outputs": [
    {
     "data": {
      "image/png": "[encoded data removed]",
      "text/plain": [
       "<matplotlib.figure.Figure at 0x7f0bf31115c0>"
      ]
     },
     "execution_count": 17,
     "metadata": {},
     "output_type": "execute_result"
    }
   ],
   "source": [
    "# we will again use the quantum simulator to run the circuit multiple times\n",
    "# try to change the input qubuts values by applying/not applying the NOT gate on them and see\n",
    "\n",
    "sim = Aer.get_backend('qasm_simulator') \n",
    "qobj = assemble(qc_ha)\n",
    "counts = sim.run(qobj).result().get_counts()\n",
    "plot_histogram(counts)"
   ]
  },
  {
   "cell_type": "code",
   "execution_count": null,
   "id": "informal-petroleum",
   "metadata": {},
   "outputs": [],
   "source": [
    "# Now we need to implement a full adder\n",
    "# we will need to "
   ]
  }
 ],
 "metadata": {
  "kernelspec": {
   "display_name": "Python 3",
   "language": "python",
   "name": "python3"
  },
  "language_info": {
   "codemirror_mode": {
    "name": "ipython",
    "version": 3
   },
   "file_extension": ".py",
   "mimetype": "text/x-python",
   "name": "python",
   "nbconvert_exporter": "python",
   "pygments_lexer": "ipython3",
   "version": "3.6.9"
  }
 },
 "nbformat": 4,
 "nbformat_minor": 5
}
